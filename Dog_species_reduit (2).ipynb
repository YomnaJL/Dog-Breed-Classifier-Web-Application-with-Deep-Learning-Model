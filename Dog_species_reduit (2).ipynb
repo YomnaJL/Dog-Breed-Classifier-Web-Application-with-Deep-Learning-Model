{
 "cells": [
  {
   "cell_type": "code",
   "execution_count": null,
   "id": "6c1c0f3b-4ec5-4183-8f12-046f57f9943f",
   "metadata": {
    "id": "6c1c0f3b-4ec5-4183-8f12-046f57f9943f"
   },
   "outputs": [],
   "source": [
    "#%%1. Importing Libraries\n",
    "#In this Notebook we will use a Pre Trained Model like Resnet50 for Classification of Dog Breed."
   ]
  },
  {
   "cell_type": "code",
   "execution_count": null,
   "id": "9c37421e-3074-40e7-a8b6-2518fd872682",
   "metadata": {
    "id": "9c37421e-3074-40e7-a8b6-2518fd872682",
    "tags": []
   },
   "outputs": [],
   "source": [
    "\n",
    "import pandas as pd\n",
    "import numpy as np\n",
    "import matplotlib.pyplot as plt\n",
    "import seaborn as sns\n",
    "import os\n",
    "\n",
    "import tensorflow as tf\n",
    "tf.config.run_functions_eagerly(True)\n",
    "from tensorflow.keras.models import Sequential, Model\n",
    "from tensorflow.keras.layers import Dense, Input, InputLayer\n",
    "from tensorflow.keras.callbacks import ModelCheckpoint, EarlyStopping\n",
    "\n",
    "import warnings\n",
    "warnings.filterwarnings(\"ignore\")"
   ]
  },
  {
   "cell_type": "code",
   "execution_count": null,
   "id": "bd38af1d-8cee-447a-a464-1a20955f1180",
   "metadata": {
    "id": "bd38af1d-8cee-447a-a464-1a20955f1180",
    "tags": []
   },
   "outputs": [],
   "source": [
    "plt.rcParams['font.size'] = 10"
   ]
  },
  {
   "cell_type": "code",
   "execution_count": null,
   "id": "ff75e55f-367c-4633-acfc-8184125cee8c",
   "metadata": {
    "id": "ff75e55f-367c-4633-acfc-8184125cee8c"
   },
   "outputs": [],
   "source": [
    "# %% 2. Fetching Data"
   ]
  },
  {
   "cell_type": "code",
   "execution_count": null,
   "id": "bf5155af-704e-45c3-9f8c-5b6446ee1e90",
   "metadata": {
    "id": "bf5155af-704e-45c3-9f8c-5b6446ee1e90",
    "tags": []
   },
   "outputs": [],
   "source": [
    "fpath = r\"C:\\Users\\pc\\Downloads\\archive (1)\\Images\"\n",
    "random_seed = 42"
   ]
  },
  {
   "cell_type": "code",
   "execution_count": null,
   "id": "8c31b310-ba34-4e05-9c7d-15d213b82137",
   "metadata": {
    "colab": {
     "base_uri": "https://localhost:8080/"
    },
    "id": "8c31b310-ba34-4e05-9c7d-15d213b82137",
    "outputId": "c2f1a1f1-da4b-41d5-ce8b-4a69267cef7c",
    "tags": []
   },
   "outputs": [],
   "source": [
    "img_size = 224\n",
    "batch_size =64\n",
    "train = tf.keras.utils.image_dataset_from_directory(\n",
    "  fpath,\n",
    "  validation_split=0.2,\n",
    "  subset=\"training\",\n",
    "  seed=123,\n",
    "  image_size=(img_size, img_size),\n",
    "  batch_size=batch_size,\n",
    "  label_mode =\"categorical\"\n",
    ")"
   ]
  },
  {
   "cell_type": "code",
   "execution_count": null,
   "id": "bd067da6-a495-4d3d-b318-67171b5a94b2",
   "metadata": {
    "colab": {
     "base_uri": "https://localhost:8080/"
    },
    "id": "bd067da6-a495-4d3d-b318-67171b5a94b2",
    "outputId": "05826f6f-2e5a-4e46-fab2-a0f7b1b994df",
    "tags": []
   },
   "outputs": [],
   "source": [
    "val = tf.keras.utils.image_dataset_from_directory(\n",
    "  fpath,\n",
    "  validation_split=0.2,\n",
    "  subset=\"validation\",\n",
    "  seed=123,\n",
    "  image_size=(img_size, img_size),\n",
    "  batch_size=batch_size,\n",
    "  label_mode =\"categorical\"\n",
    ")"
   ]
  },
  {
   "cell_type": "code",
   "execution_count": null,
   "id": "1a3b8abb-8922-4a17-aa48-62c736b29790",
   "metadata": {
    "id": "1a3b8abb-8922-4a17-aa48-62c736b29790"
   },
   "outputs": [],
   "source": [
    "# %% 3. Plotting Data"
   ]
  },
  {
   "cell_type": "code",
   "execution_count": null,
   "id": "f45865ba-fd29-4f54-b9c9-ba11059b00a9",
   "metadata": {
    "id": "f45865ba-fd29-4f54-b9c9-ba11059b00a9",
    "tags": []
   },
   "outputs": [],
   "source": [
    "class_names = train.class_names"
   ]
  },
  {
   "cell_type": "code",
   "execution_count": null,
   "id": "21cbca82-71da-4096-965d-f0fb08a6de19",
   "metadata": {
    "colab": {
     "base_uri": "https://localhost:8080/"
    },
    "id": "21cbca82-71da-4096-965d-f0fb08a6de19",
    "outputId": "a1776b6a-8eff-435e-8fd5-2204260befc8",
    "tags": []
   },
   "outputs": [],
   "source": [
    "names=[]\n",
    "for name in class_names :\n",
    "    # Check if the name contains the delimiter before splitting\n",
    "    if \"-\" in name:\n",
    "        names.append(name.split(\"-\")[1])\n",
    "    else:\n",
    "        # Handle cases where the delimiter is not found\n",
    "        names.append(name)  # or any other desired handling\n",
    "\n",
    "print(names[:10]) # Printing some species\n"
   ]
  },
  {
   "cell_type": "code",
   "execution_count": null,
   "id": "72b66727-5647-4a67-ac6e-5bf12d374a65",
   "metadata": {
    "id": "72b66727-5647-4a67-ac6e-5bf12d374a65",
    "tags": []
   },
   "outputs": [],
   "source": [
    "# %% Visualizing some images of different Classes"
   ]
  },
  {
   "cell_type": "code",
   "execution_count": null,
   "id": "f7dc3405-888c-49a5-b341-63e78359f7ec",
   "metadata": {
    "colab": {
     "base_uri": "https://localhost:8080/",
     "height": 807
    },
    "id": "f7dc3405-888c-49a5-b341-63e78359f7ec",
    "outputId": "5865354c-98fa-410a-fa65-d3ddc457c6e0",
    "tags": []
   },
   "outputs": [],
   "source": [
    "plt.figure(figsize=(10, 10))\n",
    "for images, labels in train.take(1):\n",
    "    for i in range(9):\n",
    "        ax = plt.subplot(3, 3, i + 1)\n",
    "        plt.imshow(images[i].numpy().astype(\"uint8\"))\n",
    "        plt.axis(\"off\")"
   ]
  },
  {
   "cell_type": "code",
   "execution_count": null,
   "id": "a010b0fe-6e0c-41b0-9b3e-f360f58f1feb",
   "metadata": {
    "id": "a010b0fe-6e0c-41b0-9b3e-f360f58f1feb",
    "tags": []
   },
   "outputs": [],
   "source": [
    "# %% 4. Building a Model (Resnet50)"
   ]
  },
  {
   "cell_type": "code",
   "execution_count": null,
   "id": "40936f8d-d829-4b64-83b1-a77225ee17ba",
   "metadata": {
    "id": "40936f8d-d829-4b64-83b1-a77225ee17ba",
    "tags": []
   },
   "outputs": [],
   "source": [
    "# We are calling Resnet50 and adding some layers of our own\n",
    "# Below is the Architecture of Resnet50"
   ]
  },
  {
   "cell_type": "code",
   "execution_count": null,
   "id": "bf65f7d2-a5c7-4ce1-a637-2182d491beb5",
   "metadata": {
    "colab": {
     "base_uri": "https://localhost:8080/",
     "height": 225
    },
    "id": "bf65f7d2-a5c7-4ce1-a637-2182d491beb5",
    "outputId": "e5f8ef04-44a8-49b7-c241-5337fd4ff92d",
    "tags": []
   },
   "outputs": [],
   "source": [
    "Model_URL ='https://kaggle.com/models/google/resnet-v2/frameworks/TensorFlow2/variations/50-classification/versions/2'\n",
    "model = Sequential([\n",
    "    tf.keras.layers.Rescaling(1./255, input_shape=(img_size, img_size, 3)),\n",
    "    hub.KerasLayer(Model_URL),\n",
    "    tf.keras.layers.Dense(10, activation=\"softmax\")])\n",
    "tf.compat.v1.logging.set_verbosity(tf.compat.v1.logging.ERROR)\n"
   ]
  },
  {
   "cell_type": "code",
   "execution_count": null,
   "id": "ab39ad43-c885-4a00-abbf-e5dedb4d1d24",
   "metadata": {
    "id": "ab39ad43-c885-4a00-abbf-e5dedb4d1d24",
    "tags": []
   },
   "outputs": [],
   "source": [
    "# Compiling the model in which we are using Categorical Crossentropy and the optimizer is Adam."
   ]
  },
  {
   "cell_type": "code",
   "execution_count": null,
   "id": "79d1909b-c35e-4214-8ee3-a6c24f26e107",
   "metadata": {
    "id": "79d1909b-c35e-4214-8ee3-a6c24f26e107",
    "tags": []
   },
   "outputs": [],
   "source": [
    "model.compile(\n",
    "      loss=tf.keras.losses.CategoricalCrossentropy(),\n",
    "      optimizer=tf.keras.optimizers.Adam(),\n",
    "      metrics=[\"accuracy\"]\n",
    "  )"
   ]
  },
  {
   "cell_type": "code",
   "execution_count": null,
   "id": "9b3b991a-a32c-4f1d-89f7-4cc3cabcb083",
   "metadata": {
    "colab": {
     "base_uri": "https://localhost:8080/",
     "height": 225
    },
    "id": "9b3b991a-a32c-4f1d-89f7-4cc3cabcb083",
    "outputId": "f7265f89-c41f-486d-b6ad-94e59f89549e",
    "tags": []
   },
   "outputs": [],
   "source": [
    "model.summary()"
   ]
  },
  {
   "cell_type": "code",
   "execution_count": null,
   "id": "a952c761-4252-477b-8c80-93674d20c083",
   "metadata": {
    "id": "a952c761-4252-477b-8c80-93674d20c083",
    "tags": []
   },
   "outputs": [],
   "source": [
    "# We will add 3 Very Important Callbacks for our model\n",
    "# ----- ModelCheckpoint: This callback saves the model weights after every epoch if the validation loss improves.\n",
    "# ----- EarlyStopping: This callback stops the training process if the validation loss doesn't improve for a certain number of epochs.\n",
    "# ----- ReduceLROnPlateu: This callback monitors a quantity and if no improvement is seen for a 'patience' number of epochs, the learning rate is reduced.\n",
    "# All of them prevent Overfitting and save the best model according to the validation loss."
   ]
  },
  {
   "cell_type": "code",
   "execution_count": null,
   "id": "c837e395-dddd-495e-8e54-d0de1db1de13",
   "metadata": {
    "id": "c837e395-dddd-495e-8e54-d0de1db1de13",
    "tags": []
   },
   "outputs": [],
   "source": [
    "model_name = \"model_reduit.keras\"\n",
    "checkpoint = tf.keras.callbacks.ModelCheckpoint(model_name,\n",
    "                            monitor=\"val_loss\",\n",
    "                            mode=\"min\",\n",
    "                            save_best_only = True,\n",
    "                            verbose=1)\n",
    "\n",
    "\n",
    "\n",
    "earlystopping = tf.keras.callbacks.EarlyStopping(monitor='val_loss', min_delta = 0, patience = 3,\n",
    "                                                 verbose = 1, restore_best_weights=True)\n",
    "\n",
    "reduce_lr = tf.keras.callbacks.ReduceLROnPlateau(monitor='val_loss', factor=0.2, patience=3, min_lr=0.0001)"
   ]
  },
  {
   "cell_type": "code",
   "execution_count": null,
   "id": "9b548f91-8244-4fa2-9130-d3f22870c751",
   "metadata": {
    "colab": {
     "base_uri": "https://localhost:8080/"
    },
    "id": "9b548f91-8244-4fa2-9130-d3f22870c751",
    "outputId": "a750edad-86d1-4108-984c-2c88bff82241",
    "tags": []
   },
   "outputs": [],
   "source": [
    "import tensorflow_hub as hub\n",
    "\n",
    "history = model.fit(train, epochs=30, validation_data=val, callbacks=[checkpoint,earlystopping, reduce_lr])"
   ]
  }
 ],
 "metadata": {
  "accelerator": "GPU",
  "colab": {
   "gpuType": "T4",
   "provenance": []
  },
  "kernelspec": {
   "display_name": "Python 3",
   "name": "python3"
  },
  "language_info": {
   "codemirror_mode": {
    "name": "ipython",
    "version": 3
   },
   "file_extension": ".py",
   "mimetype": "text/x-python",
   "name": "python",
   "nbconvert_exporter": "python",
   "pygments_lexer": "ipython3",
   "version": "3.12.7"
  }
 },
 "nbformat": 4,
 "nbformat_minor": 5
}
